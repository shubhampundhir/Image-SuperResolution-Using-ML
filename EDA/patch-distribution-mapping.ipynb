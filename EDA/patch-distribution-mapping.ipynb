{
 "cells": [
  {
   "cell_type": "code",
   "execution_count": 2,
   "metadata": {},
   "outputs": [],
   "source": [
    "import numpy as np\n",
    "from PIL import Image"
   ]
  },
  {
   "cell_type": "code",
   "execution_count": 3,
   "metadata": {},
   "outputs": [],
   "source": [
    "def extract_patches(image, num_cols, num_rows):\n",
    "    \"\"\"\n",
    "    Extract patches from an image\n",
    "    \"\"\"\n",
    "    image = np.array(image)\n",
    "    patches = []\n",
    "    for i in range(num_cols):\n",
    "        for j in range(num_rows):\n",
    "            patch = image[i : i + 8, j : j + 8]\n",
    "            patches.append(patch)\n",
    "    return patches\n",
    "\n",
    "\n",
    "# Load LR and HR images using PIL\n",
    "lr_image = Image.open(\n",
    "    \"/Users/puneet/projects/cse543-ml-sisr-project/data/SuperResolution/LR/0811x4m.png\"\n",
    ")\n",
    "hr_image = Image.open(\n",
    "    \"/Users/puneet/projects/cse543-ml-sisr-project/data/SuperResolution/HR/0811.png\"\n",
    ")\n",
    "\n",
    "# Extract corresponding patches from LR and HR images\n",
    "lr_patches = extract_patches(lr_image, patch_size=8, stride=4)\n",
    "hr_patches = extract_patches(hr_image, patch_size=8, stride=4)"
   ]
  },
  {
   "cell_type": "code",
   "execution_count": 7,
   "metadata": {},
   "outputs": [
    {
     "data": {
      "text/plain": [
       "(8, 8)"
      ]
     },
     "execution_count": 7,
     "metadata": {},
     "output_type": "execute_result"
    }
   ],
   "source": [
    "hr_patches[2].size"
   ]
  },
  {
   "cell_type": "code",
   "execution_count": 8,
   "metadata": {},
   "outputs": [
    {
     "data": {
      "text/plain": [
       "(8, 8)"
      ]
     },
     "execution_count": 8,
     "metadata": {},
     "output_type": "execute_result"
    }
   ],
   "source": [
    "lr_patches[2].size"
   ]
  }
 ],
 "metadata": {
  "kernelspec": {
   "display_name": "sisr-env",
   "language": "python",
   "name": "python3"
  },
  "language_info": {
   "codemirror_mode": {
    "name": "ipython",
    "version": 3
   },
   "file_extension": ".py",
   "mimetype": "text/x-python",
   "name": "python",
   "nbconvert_exporter": "python",
   "pygments_lexer": "ipython3",
   "version": "3.12.5"
  }
 },
 "nbformat": 4,
 "nbformat_minor": 2
}
