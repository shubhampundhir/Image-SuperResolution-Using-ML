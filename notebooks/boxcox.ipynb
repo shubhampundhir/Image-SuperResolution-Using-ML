{
 "cells": [
  {
   "cell_type": "code",
   "execution_count": null,
   "metadata": {},
   "outputs": [],
   "source": [
    "import numpy as np\n",
    "from scipy.stats import boxcox\n",
    "from scipy.special import inv_boxcox\n",
    "from tqdm import tqdm\n",
    "import math\n",
    "def get_window(img, x,y):\n",
    "    coords = np.array([[x,y],[x+1,y],[x,y+1],[x+1,y+1]])\n",
    "    Y = np.array([img[x,y] for x,y in coords ])\n",
    "    x_vector = np.array(coords[:,0])\n",
    "    y_vector = np.array(coords[:,1])\n",
    "    N = coords.shape[0]\n",
    "    return x_vector, y_vector, Y, N\n",
    "\n",
    "def regress(X,Y):\n",
    "    XT = np.transpose(X)\n",
    "    XTX = np.dot(XT,X)\n",
    "    b = np.dot( np.dot( np.linalg.inv( XTX ), XT ), Y )\n",
    "    return b\n",
    "\n",
    "def get_pixel(sx,sy, regression_line):\n",
    "    return regression_line[0] + regression_line[1] * sx + regression_line[2] * sy\n",
    "\n",
    "def find_lambda(X,y):\n",
    "    XT = np.transpose(X)\n",
    "    XTX = np.dot(XT,X)\n",
    "    H = np.dot( np.dot(X, np.linalg.inv( XTX ) ), XT)\n",
    "    H = np.min(H) + H\n",
    "\n",
    "    IH = np.eye(H.shape[0])-H\n",
    "    _lambda = 1\n",
    "    for i in range(5):\n",
    "        y_lambda = np.power(y, _lambda)\n",
    "        y_lambda_1 = y_lambda - 1\n",
    "        S = np.dot(np.dot( np.transpose(y_lambda_1), IH ), y_lambda_1) / (_lambda**2)\n",
    "        S_ = (np.dot( np.dot(np.transpose(2*(y_lambda) * np.log(y)), IH), y_lambda_1) - 2 *_lambda * S)\n",
    "        fx = S*_lambda - np.dot( np.dot( np.transpose(y_lambda*np.log(y)), IH), y_lambda_1)\n",
    "        fx_1 = S_ * _lambda + S - np.dot( np.dot( np.transpose( y_lambda * np.power(np.log(y), 2) ), IH\n",
    "        fx_2 = np.dot( np.dot( np.transpose( y_lambda * np.log(y)), IH ), y_lambda * np.log(y) )\n",
    "        f_x = fx_1 - fx_2\n",
    "        new_lambda = _lambda - fx/f_x\n",
    "        if abs( _lambda-new_lambda) < 1e-4 : #checar parametro de erro\n",
    "        break\n",
    "        _lambda = new_lambda\n",
    "    return _lambda"
   ]
  }
 ],
 "metadata": {
  "language_info": {
   "name": "python"
  }
 },
 "nbformat": 4,
 "nbformat_minor": 2
}
